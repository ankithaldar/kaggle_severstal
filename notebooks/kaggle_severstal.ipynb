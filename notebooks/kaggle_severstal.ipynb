{
 "cells": [
  {
   "cell_type": "markdown",
   "metadata": {},
   "source": [
    "---\n",
    "### Check if code is running in google colab or Kaggle"
   ]
  },
  {
   "cell_type": "code",
   "execution_count": null,
   "metadata": {
    "metadata": {}
   },
   "outputs": [],
   "source": [
    "import os\n",
    "\n",
    "try:\n",
    "  import google.colab\n",
    "  IN_COLAB = True\n",
    "  os.environ['colab_or_kaggle'] = 'True'\n",
    "except:\n",
    "  IN_COLAB = False # Currently only kaggle is supported in exception\n",
    "  os.environ['colab_or_kaggle'] = 'False'"
   ]
  },
  {
   "cell_type": "markdown",
   "metadata": {},
   "source": [
    "---\n",
    "## Download kaggle data in colab"
   ]
  },
  {
   "cell_type": "code",
   "execution_count": null,
   "metadata": {},
   "outputs": [],
   "source": [
    "if IN_COLAB:\n",
    "  # Info on how to get your api key (kaggle.json) here: https://github.com/Kaggle/kaggle-api#api-credentials\n",
    "  !pip install --upgrade --force-reinstall --no-deps kaggle\n",
    "  api_token = {'username':'haldarankit','key':'e4a3e87eae6be921d669fdcbfee2d2bc'}\n",
    "\n",
    "  !mkdir -p /root/.kaggle/\n",
    "\n",
    "  import json\n",
    "  with open('/root/.kaggle/kaggle.json', 'w') as file:\n",
    "    json.dump(api_token, file)\n",
    "  !chmod 600 /root/.kaggle/kaggle.json"
   ]
  },
  {
   "cell_type": "code",
   "execution_count": null,
   "metadata": {
    "metadata": {}
   },
   "outputs": [],
   "source": [
    "%%bash\n",
    "competition_name='severstal-steel-defect-detection'\n",
    "project_git_folder='kaggle_severstal'\n",
    "\n",
    "# if in google colab\n",
    "if [ $colab_or_kaggle == 'True' ]\n",
    "then\n",
    "  # Create folders similar to kaggle execution in colab\n",
    "  mkdir -p '/content/kaggle'\n",
    "  cd '/content/kaggle'\n",
    "\n",
    "  data_path='/content/kaggle/input'\n",
    "  code_path='/content/kaggle/working'\n",
    "  echo $data_path\n",
    "  mkdir -p ${data_path}\n",
    "  mkdir -p ${code_path}\n",
    "\n",
    "  # set kaggle data download path\n",
    "  kaggle config set -n path -v $data_path\n",
    "\n",
    "  # Download kaggle dataset in kaggle kernel format\n",
    "  kaggle competitions download -c $competition_name -p $data_path\n",
    "  unzip -q $data_path/$competition_name.zip -d $data_path/$competition_name/\n",
    "  rm -rfv $data_path/$competition_name.zip\n",
    "\n",
    "# if not in google colab (exception - currently using only kaggle)\n",
    "# change if needed\n",
    "else\n",
    "  code_path='/kaggle/working'\n",
    "fi\n",
    "\n",
    "\n",
    "# download github repo\n",
    "cd ${code_path}\n",
    "\n",
    "MOVE_TO_BRANCH='main'\n",
    "\n",
    "# Delete in directory exists\n",
    "if [ -d ${project_git_folder} ]; then\n",
    "  rm -rf ${project_git_folder}\n",
    "fi\n",
    "\n",
    "# clone git repo\n",
    "git clone https://github.com/ankithaldar/${project_git_folder}.git\n",
    "\n",
    "# get into kaggle git repo\n",
    "cd ${project_git_folder}\n",
    "\n",
    "# more to another branch\n",
    "git checkout -b $MOVE_TO_BRANCH refs/remotes/origin/$MOVE_TO_BRANCH\n",
    "git pull\n",
    "\n",
    "# check its contents\n",
    "ls -al"
   ]
  },
  {
   "cell_type": "code",
   "execution_count": null,
   "metadata": {},
   "outputs": [],
   "source": [
    "%load_ext autoreload\n",
    "%autoreload 2"
   ]
  },
  {
   "cell_type": "code",
   "execution_count": null,
   "metadata": {},
   "outputs": [],
   "source": [
    "if IN_COLAB:\n",
    "  %cd /content/kaggle/working/kaggle_severstal/src\n",
    "else:\n",
    "  %cd /kaggle/working/kaggle_severstal/src"
   ]
  },
  {
   "cell_type": "markdown",
   "metadata": {},
   "source": [
    "---\n",
    "## 01. Train Models"
   ]
  },
  {
   "cell_type": "code",
   "execution_count": null,
   "metadata": {},
   "outputs": [],
   "source": [
    "!python train.py --params_yml \"./config_params/classification_efficientnetb1_fold_01.yml\""
   ]
  },
  {
   "cell_type": "markdown",
   "metadata": {},
   "source": [
    "---\n",
    "## 02. Delete code from backend"
   ]
  },
  {
   "cell_type": "code",
   "execution_count": null,
   "metadata": {},
   "outputs": [],
   "source": [
    "if IN_COLAB:\n",
    "  %rm -rf /content/kaggle/working/kaggle_severstal/*\n",
    "  %rm -rf /content/kaggle/working/kaggle_severstal\n",
    "else:\n",
    "  %rm -rf /kaggle/working/kaggle_severstal/*\n",
    "  %rm -rf /kaggle/working/kaggle_severstal"
   ]
  }
 ],
 "metadata": {
  "kernelspec": {
   "display_name": "kaggle-base-template-CghReVaR-py3.11",
   "language": "python",
   "name": "python3"
  },
  "language_info": {
   "codemirror_mode": {
    "name": "ipython",
    "version": 3
   },
   "file_extension": ".py",
   "mimetype": "text/x-python",
   "name": "python",
   "nbconvert_exporter": "python",
   "pygments_lexer": "ipython3",
   "version": "3.11.7"
  }
 },
 "nbformat": 4,
 "nbformat_minor": 2
}
